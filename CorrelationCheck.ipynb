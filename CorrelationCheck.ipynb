{
 "cells": [
  {
   "cell_type": "code",
   "execution_count": 7,
   "id": "da7495c8-2fc4-4093-86c3-cc4fc2b89469",
   "metadata": {},
   "outputs": [],
   "source": [
    "import nibabel as nib\n",
    "import numpy as np\n",
    "from sklearn.feature_selection import mutual_info_regression\n",
    "import os"
   ]
  },
  {
   "cell_type": "code",
   "execution_count": 8,
   "id": "88b61252-9374-4137-a1a0-ba3939f7d59a",
   "metadata": {},
   "outputs": [
    {
     "name": "stdout",
     "output_type": "stream",
     "text": [
      "/Users/pabloprieto/Library/CloudStorage/OneDrive-Personal/Documentos/3rd_Year_Biomedical_Engineering_MENG/Summer_Studentship/Correlation_Templates\n"
     ]
    }
   ],
   "source": [
    "print(os.getcwd())"
   ]
  },
  {
   "cell_type": "code",
   "execution_count": 9,
   "id": "b52472f1-b727-4f2e-a27f-d0bc46a8346a",
   "metadata": {},
   "outputs": [],
   "source": [
    "path_transformed_features_folder = \"/Users/pabloprieto/Library/CloudStorage/OneDrive-Personal/Documentos/3rd_Year_Biomedical_Engineering_MENG/Summer_Studentship/Templates/Output_MSM/L21_L23_Curvature_Sulc_Warp.transformed_and_reprojected.func.gii\""
   ]
  },
  {
   "cell_type": "code",
   "execution_count": 10,
   "id": "af3783bb-2bc0-40a0-a00e-b066a66fcdab",
   "metadata": {},
   "outputs": [],
   "source": [
    "path_original_features = \"/Users/pabloprieto/Library/CloudStorage/OneDrive-Personal/Documentos/3rd_Year_Biomedical_Engineering_MENG/Summer_Studentship/Templates/Output_MSM/FeatureCombination\""
   ]
  },
  {
   "cell_type": "code",
   "execution_count": 38,
   "id": "47057f7f-f74b-4260-96ec-ba89f5b15010",
   "metadata": {},
   "outputs": [],
   "source": [
    "data_transformed_features = nib.load(path_transformed_features_folder)\n",
    "data_original_L21_features = nib.load(os.path.join(path_original_features,\"fetal.week21.left.Curvature.Sulc.shape.gii\"))\n",
    "data_original_L23_features = nib.load(os.path.join(path_original_features,\"fetal.week23.left.Curvature.Sulc.shape.gii\"))"
   ]
  },
  {
   "cell_type": "code",
   "execution_count": 63,
   "id": "40c2e317-1047-4184-bb55-fcd62e8e189e",
   "metadata": {},
   "outputs": [
    {
     "name": "stdout",
     "output_type": "stream",
     "text": [
      "(32492,)\n",
      "(32492,)\n",
      "(32492,)\n",
      "False False False\n"
     ]
    }
   ],
   "source": [
    "# GIFTI images can have multiple data arrays, so you need to specify which one you want to extract\n",
    "curvature_transformed = data_transformed_features.darrays[0].data\n",
    "curvature_original_L21_features = data_original_L21_features.darrays[0].data\n",
    "curvature_original_L23_features = data_original_L23_features.darrays[0].data\n",
    "# Checking if the sizes are the same (which they are)\n",
    "print(curvature_transformed.shape)\n",
    "print(curvature_original_L21_features.shape)\n",
    "print(curvature_original_L23_features.shape)\n",
    "\n",
    "has_nantr = np.isnan(curvature_transformed).any()\n",
    "has_nan21 = np.isnan(curvature_original_L21_features).any()\n",
    "has_nan23 = np.isnan(curvature_original_L23_features).any()\n",
    "\n",
    "print(has_nantr,has_nan21,has_nan23)"
   ]
  },
  {
   "cell_type": "code",
   "execution_count": 64,
   "id": "d89b7245-4cf7-462d-a5f4-9f56d0266c6c",
   "metadata": {},
   "outputs": [
    {
     "name": "stdout",
     "output_type": "stream",
     "text": [
      "(32492,)\n",
      "(32492,)\n",
      "(32492,)\n",
      "False False False\n"
     ]
    }
   ],
   "source": [
    "# Specifying the sulcus feature\n",
    "sulcus_original_L21_features = data_original_L21_features.darrays[1].data\n",
    "sulcus_original_L23_features = data_original_L23_features.darrays[1].data\n",
    "sulcus_transformed = data_transformed_features.darrays[1].data\n",
    "# Checking if the sizes for the sulcus are the same\n",
    "print(sulcus_transformed.shape)\n",
    "print(sulcus_original_L21_features.shape)\n",
    "print(sulcus_original_L23_features.shape)\n",
    "\n",
    "has_nantr = np.isnan(sulcus_transformed).any()\n",
    "has_nan21 = np.isnan(sulcus_original_L21_features).any()\n",
    "has_nan23 = np.isnan(sulcus_original_L23_features).any()\n",
    "\n",
    "print(has_nantr,has_nan21,has_nan23)"
   ]
  },
  {
   "cell_type": "code",
   "execution_count": 55,
   "id": "4088c247-07a0-425e-9350-f00d1b277985",
   "metadata": {},
   "outputs": [
    {
     "name": "stdout",
     "output_type": "stream",
     "text": [
      "[3.47763033]\n",
      "[3.13394847]\n",
      "[3.08510904]\n"
     ]
    }
   ],
   "source": [
    "\n",
    "sulcus_original_L21_features = sulcus_original_L21_features.reshape(-1, 1)\n",
    "sulcus_original_L23_features = sulcus_original_L23_features.reshape(-1, 1)\n",
    "sulcus_transformed = sulcus_transformed.reshape(-1, 1)\n",
    "\n",
    "mi_sulc_original_L21_to_original_L23 = mutual_info_regression(sulcus_original_L21_features, sulcus_original_L23_features.ravel())\n",
    "mi_sulc_original_L21_to_transformed_L21L23 = mutual_info_regression(sulcus_original_L21_features, sulcus_transformed.ravel())\n",
    "mi_sulc_original_L23_to_transformed_L21L23 = mutual_info_regression(sulcus_original_L23_features, sulcus_transformed.ravel())\n",
    "\n",
    "print(mi_sulc_original_L21_to_original_L23)\n",
    "print(mi_sulc_original_L21_to_transformed_L21L23)\n",
    "print(mi_sulc_original_L23_to_transformed_L21L23)\n"
   ]
  },
  {
   "cell_type": "code",
   "execution_count": 56,
   "id": "0f643dd9-1e33-46e8-a658-e55b2051c7bf",
   "metadata": {},
   "outputs": [
    {
     "name": "stdout",
     "output_type": "stream",
     "text": [
      "[2.37150999]\n",
      "[2.06182581]\n",
      "[1.91478724]\n"
     ]
    }
   ],
   "source": [
    "curvature_original_L21_features = curvature_original_L21_features.reshape(-1, 1)\n",
    "curvature_original_L23_features = curvature_original_L23_features.reshape(-1, 1)\n",
    "curvature_transformed = curvature_transformed.reshape(-1, 1)\n",
    "\n",
    "mi_curvature_original_L21_to_original_L23 = mutual_info_regression(curvature_original_L21_features, curvature_original_L23_features.ravel())\n",
    "mi_curvature_original_L21_to_transformed_L21L23 = mutual_info_regression(curvature_original_L21_features, curvature_transformed.ravel())\n",
    "mi_curvature_original_L23_to_transformed_L21L23 = mutual_info_regression(curvature_original_L23_features, curvature_transformed.ravel())\n",
    "\n",
    "print(mi_curvature_original_L21_to_original_L23)\n",
    "print(mi_curvature_original_L21_to_transformed_L21L23)\n",
    "print(mi_curvature_original_L23_to_transformed_L21L23)"
   ]
  },
  {
   "cell_type": "code",
   "execution_count": 15,
   "id": "a16c00eb-330e-43d9-a062-43049104cb18",
   "metadata": {
    "scrolled": true
   },
   "outputs": [],
   "source": [
    "import numpy as np\n",
    "from scipy.stats import spearmanr, kendalltau\n",
    "from sklearn.feature_selection import mutual_info_regression\n",
    "\n",
    "def print_correlations(x, y, name):\n",
    "    # Pearson Correlation Coefficient\n",
    "    pearson_corr = np.corrcoef(x, y)[0, 1]\n",
    "\n",
    "    # Spearman's Rank Correlation Coefficient\n",
    "    spearman_corr, _ = spearmanr(x, y)\n",
    "\n",
    "    # Kendall's Tau\n",
    "    kendall_corr, _ = kendalltau(x, y)\n",
    "\n",
    "    # Mutual Information\n",
    "    mi = mutual_info_regression(x.reshape(-1, 1), y.ravel())\n",
    "\n",
    "    print(f\"{name} Pearson Correlation: {pearson_corr}\")\n",
    "    print(f\"{name} Spearman Correlation: {spearman_corr}\")\n",
    "    print(f\"{name} Kendall Tau: {kendall_corr}\")\n",
    "    print(f\"{name} Mutual Information: {mi[0]}\")\n"
   ]
  },
  {
   "cell_type": "code",
   "execution_count": null,
   "id": "d0b5ef77-2983-478b-b422-bdc0c493b2dd",
   "metadata": {},
   "outputs": [],
   "source": [
    "# Sulcus Correlations\n",
    "print_correlations(sulcus_original_L21_features, sulcus_original_L23_features, \"Sulcus L21 to L23\")\n",
    "print_correlations(sulcus_original_L23_features, sulcus_transformed, \"Sulcus L23 to Transformed\")\n",
    "\n",
    "# Curvature Correlations\n",
    "print_correlations(curvature_original_L21_features, curvature_original_L23_features, \"Curvature L21 to L23\")\n",
    "print_correlations(curvature_original_L23_features, curvature_transformed, \"Curvature L23 to Transformed\")\n"
   ]
  },
  {
   "cell_type": "code",
   "execution_count": 72,
   "id": "ec60d557-3398-4173-ba6c-b6b860a3b36b",
   "metadata": {},
   "outputs": [
    {
     "name": "stdout",
     "output_type": "stream",
     "text": [
      "Pearson Correlation Original-Original: 0.9866510860940401\n",
      "Pearson Correlation Original-Transformed: 0.9645343162238491\n",
      "Pearson Correlation Original-Original: 0.9991859242922988\n",
      "Pearson Correlation Original-Transformed: 0.997297828749563\n"
     ]
    }
   ],
   "source": [
    "if np.std(curvature_original_L21_features) == 0 or np.std(curvature_original_L23_features) == 0:\n",
    "    print(\"One or both input arrays have no variation. Pearson correlation is not defined.\")\n",
    "else:\n",
    "    # Calculate Pearson correlation\n",
    "    pearson_corr = np.corrcoef(curvature_original_L21_features, curvature_original_L23_features)[0, 1]\n",
    "    print(f\"Pearson Correlation Original-Original: {pearson_corr}\")\n",
    "\n",
    "if np.std(curvature_original_L23_features) == 0 or np.std(curvature_transformed) == 0:\n",
    "    print(\"One or both input arrays have no variation. Pearson correlation is not defined.\")\n",
    "else:\n",
    "    # Calculate Pearson correlation\n",
    "    pearson_corr = np.corrcoef(curvature_original_L23_features, curvature_transformed)[0, 1]\n",
    "    print(f\"Pearson Correlation Original-Transformed: {pearson_corr}\")\n",
    "\n",
    "\n",
    "\n",
    "if np.std(sulcus_original_L21_features) == 0 or np.std(sulcus_original_L23_features) == 0:\n",
    "    print(\"One or both input arrays have no variation. Pearson correlation is not defined.\")\n",
    "else:\n",
    "    # Calculate Pearson correlation\n",
    "    pearson_corr = np.corrcoef(sulcus_original_L21_features, sulcus_original_L23_features)[0, 1]\n",
    "    print(f\"Pearson Correlation Original-Original: {pearson_corr}\")\n",
    "\n",
    "if np.std(sulcus_original_L23_features) == 0 or np.std(sulcus_transformed) == 0:\n",
    "    print(\"One or both input arrays have no variation. Pearson correlation is not defined.\")\n",
    "else:\n",
    "    # Calculate Pearson correlation\n",
    "    pearson_corr = np.corrcoef(sulcus_original_L23_features, sulcus_transformed)[0, 1]\n",
    "    print(f\"Pearson Correlation Original-Transformed: {pearson_corr}\")"
   ]
  },
  {
   "cell_type": "code",
   "execution_count": 11,
   "id": "825f4aa0-96c4-44e5-8af5-3bfe2926be05",
   "metadata": {},
   "outputs": [],
   "source": [
    "path_to_transformed_features = \"/Users/pabloprieto/Library/CloudStorage/OneDrive-Personal/Documentos/3rd_Year_Biomedical_Engineering_MENG/Summer_Studentship/Templates/Output_MSM/L34_L36_Curvature_Sulc_Warp.transformed_and_reprojected.func.gii\""
   ]
  },
  {
   "cell_type": "code",
   "execution_count": 14,
   "id": "c7ce9e10-41cc-4fdc-8277-f14ce66ea38a",
   "metadata": {},
   "outputs": [],
   "source": [
    "data_transformed_features = nib.load(path_transformed_features_folder)\n",
    "data_original_L21_features = nib.load(os.path.join(path_original_features,\"fetal.week34.curvature.sulc.shape.gii\"))\n",
    "data_original_L23_features = nib.load(os.path.join(path_original_features,\"fetal.week34.curvature.sulc.shape.gii\"))"
   ]
  },
  {
   "cell_type": "code",
   "execution_count": 22,
   "id": "dbd3fe06-dbf2-4104-bd06-2791a300dbf9",
   "metadata": {},
   "outputs": [],
   "source": [
    "import os\n",
    "import nibabel as nib\n",
    "import numpy as np\n",
    "from scipy.stats import spearmanr, kendalltau\n",
    "from sklearn.feature_selection import mutual_info_regression\n",
    "\n",
    "def load_data_features(transformed_features,original_start_features,original_end_features,path_to_features=\"/Users/pabloprieto/Library/CloudStorage/OneDrive-Personal/Documentos/3rd_Year_Biomedical_Engineering_MENG/Summer_Studentship/Templates/Output_MSM/FeatureCombination\",path_to_transformed_features=\"/Users/pabloprieto/Library/CloudStorage/OneDrive-Personal/Documentos/3rd_Year_Biomedical_Engineering_MENG/Summer_Studentship/Templates/Output_MSM\"):\n",
    "    full_path_transformed_features = os.path.join(path_to_transformed_features,transformed_features)\n",
    "    full_path_original_start_features = os.path.join(path_to_features,original_start_features)\n",
    "    full_path_original_end_features = os.path.join(path_to_features,original_end_features)\n",
    "\n",
    "    data_transformed_features = nib.load(full_path_transformed_features)\n",
    "    data_original_start_features = nib.load(full_path_original_start_features)\n",
    "    data_original_end_features = nib.load(full_path_original_end_features)\n",
    "\n",
    "    # GIFTI images can have multiple data arrays, so we to specify which one you want to extract.\n",
    "    # By default we will extract curvature first and then sulcus\n",
    "    curvature_transformed = data_transformed_features.darrays[0].data\n",
    "    curvature_original_start_features = data_original_start_features.darrays[0].data\n",
    "    curvature_original_end_features = data_original_end_features.darrays[0].data\n",
    "\n",
    "    sulcus_transformed = data_transformed_features.darrays[1].data\n",
    "    sulcus_original_start_features = data_original_start_features.darrays[1].data\n",
    "    sulcus_original_end_features = data_original_end_features.darrays[1].data\n",
    "\n",
    "    print_correlations(curvature_original_start_features, curvature_original_end_features, \"Curvature L34 to L36\")\n",
    "    print_correlations(curvature_original_end_features, curvature_transformed, \"Curvature L36 to Transformed\")\n",
    "\n",
    "    print_correlations(sulcus_original_start_features, sulcus_original_end_features, \"Sulcus L34 to L36\")\n",
    "    print_correlations(sulcus_original_end_features, sulcus_transformed, \"Sulcus L36 to Transformed\")\n",
    "\n"
   ]
  },
  {
   "cell_type": "code",
   "execution_count": 23,
   "id": "ee2b4d7d-0012-4960-a077-a88f63f48d53",
   "metadata": {},
   "outputs": [
    {
     "name": "stdout",
     "output_type": "stream",
     "text": [
      "Curvature L34 to L36 Pearson Correlation: 0.9413626238391055\n",
      "Curvature L34 to L36 Spearman Correlation: 0.9418675968389202\n",
      "Curvature L34 to L36 Kendall Tau: 0.8066620759122813\n",
      "Curvature L34 to L36 Mutual Information: 1.3265163993264553\n",
      "Curvature L36 to Transformed Pearson Correlation: 0.9511005887317063\n",
      "Curvature L36 to Transformed Spearman Correlation: 0.9493282341010186\n",
      "Curvature L36 to Transformed Kendall Tau: 0.8172790527435182\n",
      "Curvature L36 to Transformed Mutual Information: 1.3369075064022269\n",
      "Sulcus L34 to L36 Pearson Correlation: 0.9893330625811212\n",
      "Sulcus L34 to L36 Spearman Correlation: 0.9868669842706895\n",
      "Sulcus L34 to L36 Kendall Tau: 0.9067539539757395\n",
      "Sulcus L34 to L36 Mutual Information: 2.0759675903686494\n",
      "Sulcus L36 to Transformed Pearson Correlation: 0.9903587709934233\n",
      "Sulcus L36 to Transformed Spearman Correlation: 0.9917749962414921\n",
      "Sulcus L36 to Transformed Kendall Tau: 0.9243438016750448\n",
      "Sulcus L36 to Transformed Mutual Information: 2.163398064581168\n"
     ]
    }
   ],
   "source": [
    "load_data_features(\"L34_L36_Curvature_Sulc_Warp.transformed_and_reprojected.func.gii\",\"fetal.week34.curvature.sulc.shape.gii\",\"fetal.week36.curvature.sulc.shape.gii\")"
   ]
  }
 ],
 "metadata": {
  "kernelspec": {
   "display_name": "Python 3 (ipykernel)",
   "language": "python",
   "name": "python3"
  },
  "language_info": {
   "codemirror_mode": {
    "name": "ipython",
    "version": 3
   },
   "file_extension": ".py",
   "mimetype": "text/x-python",
   "name": "python",
   "nbconvert_exporter": "python",
   "pygments_lexer": "ipython3",
   "version": "3.11.4"
  }
 },
 "nbformat": 4,
 "nbformat_minor": 5
}
